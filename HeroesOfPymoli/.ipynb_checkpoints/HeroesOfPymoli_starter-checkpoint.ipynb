{
 "cells": [
  {
   "cell_type": "markdown",
   "metadata": {},
   "source": [
    "### Note\n",
    "* Instructions have been included for each segment. You do not have to follow them exactly, but they are included to help you think through the steps."
   ]
  },
  {
   "cell_type": "code",
   "execution_count": null,
   "metadata": {},
   "outputs": [],
   "source": [
    "# Dependencies and Setup\n",
    "import pandas as pd\n",
    "import numpy as np\n",
    "\n",
    "# Loading csv path\n",
    "file_to_load = \"Resources/purchase_data.csv\"\n",
    "\n",
    "# Read Purchasing File and store into Pandas data frame\n",
    "raw_data_df = pd.read_csv(file_to_load)"
   ]
  },
  {
   "cell_type": "markdown",
   "metadata": {},
   "source": [
    "## Player Count"
   ]
  },
  {
   "cell_type": "markdown",
   "metadata": {},
   "source": [
    "* Display the total number of players\n"
   ]
  },
  {
   "cell_type": "code",
   "execution_count": null,
   "metadata": {},
   "outputs": [],
   "source": [
    "#Eliminate duplicate names\n",
    "unique_players = raw_data_df[\"SN\"].unique()\n",
    "\n",
    "#Creating data frame with the count of unique players \n",
    "unique_players_count_df = pd.DataFrame(unique_players).count()\n",
    "players_dict = {\"Total Players\": unique_players_count_df}\n",
    "unique_players_df = pd.DataFrame(players_dict) \n",
    "\n",
    "unique_players_df"
   ]
  },
  {
   "cell_type": "code",
   "execution_count": null,
   "metadata": {},
   "outputs": [],
   "source": [
    "#Dynamically storing number of total players\n",
    "total_players = unique_players_df.iloc[0,0]"
   ]
  },
  {
   "cell_type": "markdown",
   "metadata": {},
   "source": [
    "## Purchasing Analysis (Total)"
   ]
  },
  {
   "cell_type": "markdown",
   "metadata": {},
   "source": [
    "* Run basic calculations to obtain number of unique items, average price, etc.\n",
    "\n",
    "\n",
    "* Create a summary data frame to hold the results\n",
    "\n",
    "\n",
    "* Optional: give the displayed data cleaner formatting\n",
    "\n",
    "\n",
    "* Display the summary data frame\n"
   ]
  },
  {
   "cell_type": "code",
   "execution_count": null,
   "metadata": {},
   "outputs": [],
   "source": [
    "#Calculations of purchasing info\n",
    "unique_items = raw_data_df[\"Item Name\"].unique()\n",
    "unique_items_count = pd.DataFrame(unique_items).count()\n",
    "price_df = raw_data_df[\"Price\"]\n",
    "average_rounded_price = f'${np.around(price_df.mean(), decimals = 2)}'\n",
    "total_purchases = raw_data_df[\"SN\"].count()\n",
    "total_revenue = raw_data_df[\"Price\"].sum()\n",
    "\n",
    "#Summary dictionary to put in summary data frame\n",
    "summary_purch_tot_dict = {\"Number of Unique Items\": unique_items_count, \n",
    "                 \"Average Price\": average_rounded_price, \n",
    "                  \"Number of Purchases\": total_purchases, \n",
    "                 \"Total Revenue\": \"${:,}\".format(int(total_revenue))\n",
    "}\n",
    "\n",
    "summary_purch_tot_df = pd.DataFrame(summary_purch_tot_dict)\n",
    "summary_purch_tot_df"
   ]
  },
  {
   "cell_type": "markdown",
   "metadata": {},
   "source": [
    "## Gender Demographics"
   ]
  },
  {
   "cell_type": "markdown",
   "metadata": {},
   "source": [
    "* Percentage and Count of Male Players\n",
    "\n",
    "\n",
    "* Percentage and Count of Female Players\n",
    "\n",
    "\n",
    "* Percentage and Count of Other / Non-Disclosed\n",
    "\n",
    "\n"
   ]
  },
  {
   "cell_type": "code",
   "execution_count": null,
   "metadata": {},
   "outputs": [],
   "source": [
    "#Removing duplicate data from raw data\n",
    "unique_name_gen_df = raw_data_df.drop_duplicates(subset=[\"SN\"])\n",
    "\n",
    "gender_count = unique_name_gen_df[\"Gender\"].value_counts()\n",
    "gender_percent = ((gender_count / total_players) * 100).round(2)\n",
    "\n",
    "#Creating summary dictionary \n",
    "summary_gen_dict = {\"Total Count\": gender_count, \n",
    "                    \"Percentage of Players\": gender_percent\n",
    "}\n",
    "\n",
    "summary_gen_df = pd.DataFrame(summary_gen_dict)\n",
    "summary_gen_df[\"Percentage of Players\"] = summary_gen_df[\"Percentage of Players\"].astype(str) + \"%\"\n",
    "summary_gen_df"
   ]
  },
  {
   "cell_type": "markdown",
   "metadata": {},
   "source": [
    "\n",
    "## Purchasing Analysis (Gender)"
   ]
  },
  {
   "cell_type": "markdown",
   "metadata": {},
   "source": [
    "* Run basic calculations to obtain purchase count, avg. purchase price, avg. purchase total per person etc. by gender\n",
    "\n",
    "\n",
    "\n",
    "\n",
    "* Create a summary data frame to hold the results\n",
    "\n",
    "\n",
    "* Optional: give the displayed data cleaner formatting\n",
    "\n",
    "\n",
    "* Display the summary data frame"
   ]
  },
  {
   "cell_type": "code",
   "execution_count": null,
   "metadata": {},
   "outputs": [],
   "source": [
    "#Creating data frame of needed columns \n",
    "purchase_data_df = raw_data_df[[\"Gender\", \"Purchase ID\", \"Price\"]]\n",
    "grouped_df = purchase_data_df.groupby([\"Gender\"])\n",
    "purchase_count = grouped_df[\"Purchase ID\"].count()\n",
    "\n",
    "\n",
    "avg_purch_price = np.around(grouped_df[\"Price\"].mean(), decimals =2)\n",
    "\n",
    "total_purch = grouped_df[\"Price\"].sum()\n",
    "avg_total_purch = (total_purch / gender_count).round(2)\n",
    "\n",
    "#Creating summary dictionary to fill summary data frame\n",
    "summary_purch_gen_dicts = {\"Purchase Count\": purchase_count, \n",
    "                       \"Average Purchase Price\": avg_purch_price.apply(lambda s: '${:,.2f}'.format(s)), \n",
    "                       \"Total Purchase Value\": total_purch.apply(lambda s: '${:,.2f}'.format(s)),\n",
    "                       \"Avg Total Purchase per Person\": avg_total_purch.apply(lambda s: '${:,.2f}'.format(s))\n",
    "}\n",
    "\n",
    "summary_purch_gen_dicts\n",
    "summary_purch_gen_df = pd.DataFrame(summary_purch_gen_dicts)\n",
    "summary_purch_gen_df"
   ]
  },
  {
   "cell_type": "markdown",
   "metadata": {},
   "source": [
    "## Age Demographics"
   ]
  },
  {
   "cell_type": "markdown",
   "metadata": {},
   "source": [
    "* Establish bins for ages\n",
    "\n",
    "\n",
    "* Categorize the existing players using the age bins. Hint: use pd.cut()\n",
    "\n",
    "\n",
    "* Calculate the numbers and percentages by age group\n",
    "\n",
    "\n",
    "* Create a summary data frame to hold the results\n",
    "\n",
    "\n",
    "* Optional: round the percentage column to two decimal points\n",
    "\n",
    "\n",
    "* Display Age Demographics Table\n"
   ]
  },
  {
   "cell_type": "code",
   "execution_count": null,
   "metadata": {},
   "outputs": [],
   "source": [
    "#Creating bins and ranges\n",
    "bins = [0, 9, 14, 19, 24, 29, 34, 39, 100]\n",
    "age_range = [\"<10\", \"10-14\", \"15-19\", \"20-24\", \"25-29\", \"30-34\", \"35-39\", \"40+\"]"
   ]
  },
  {
   "cell_type": "code",
   "execution_count": null,
   "metadata": {},
   "outputs": [],
   "source": [
    "age_group_unique_df = unique_name_gen_df\n",
    "age_group_unique_df[\"Age Group\"] = pd.cut(age_group_unique_df[\"Age\"], bins, labels=age_range, include_lowest=True)\n",
    "\n",
    "grouped_age_range_df = age_group_unique_df.groupby(\"Age Group\")\n",
    "\n",
    "grouped_age_range_df = grouped_age_range_df[\"SN\"].count()\n",
    "\n",
    "percent_age = grouped_age_range_df.iloc[:]\n",
    "\n",
    "percent_players = ((percent_age / total_players) * 100).round(2)\n",
    "\n",
    "#Creating summary data frame\n",
    "summ_age_dem = {\"Total Count\": grouped_age_range_df, \n",
    "                \"Percentage of Players\": percent_players\n",
    "}\n",
    "summ_age_df = pd.DataFrame(summ_age_dem)\n",
    "summ_age_df[\"Percentage of Players\"] = summ_age_df[\"Percentage of Players\"].astype(str) + \"%\"\n",
    "summ_age_df"
   ]
  },
  {
   "cell_type": "markdown",
   "metadata": {},
   "source": [
    "## Purchasing Analysis (Age)"
   ]
  },
  {
   "cell_type": "markdown",
   "metadata": {},
   "source": [
    "* Bin the purchase_data data frame by age\n",
    "\n",
    "\n",
    "* Run basic calculations to obtain purchase count, avg. purchase price, avg. purchase total per person etc. in the table below\n",
    "\n",
    "\n",
    "* Create a summary data frame to hold the results\n",
    "\n",
    "\n",
    "* Optional: give the displayed data cleaner formatting\n",
    "\n",
    "\n",
    "* Display the summary data frame"
   ]
  },
  {
   "cell_type": "code",
   "execution_count": null,
   "metadata": {},
   "outputs": [],
   "source": [
    "grouped_raw_df = raw_data_df\n",
    "grouped_raw_df[\"Age Group\"] = pd.cut(raw_data_df[\"Age\"], bins, labels=age_range, include_lowest=True)\n",
    "age_grouped_df = grouped_raw_df.groupby(\"Age Group\")\n",
    "\n",
    "#Calculations\n",
    "purch_count_age = age_grouped_df[\"Purchase ID\"].count()\n",
    "avg_price_age = np.around(age_grouped_df[\"Price\"].mean(), decimals=2)\n",
    "tot_price_age = age_grouped_df[\"Price\"].sum()\n",
    "avg_tot_pper = np.around(tot_price_age / grouped_age_range_df, decimals=2)\n",
    "\n",
    "#Creating summary data frame\n",
    "summary_purch_age_dict = {\"Purchase Count\": purch_count_age, \n",
    "                          \"Average Purchase Price\": avg_price_age.apply(lambda s: '${:,.2f}'.format(s)), \n",
    "                          \"Total Purchase Value\": tot_price_age.apply(lambda s: '${:,.2f}'.format(s)), \n",
    "                          \"Avg Total Purchase per Person\": avg_tot_pper.apply(lambda s: '${:,.2f}'.format(s))\n",
    "}\n",
    "summary_purch_age_df = pd.DataFrame(summary_purch_age_dict)\n",
    "summary_purch_age_df"
   ]
  },
  {
   "cell_type": "markdown",
   "metadata": {},
   "source": [
    "## Top Spenders"
   ]
  },
  {
   "cell_type": "markdown",
   "metadata": {},
   "source": [
    "* Run basic calculations to obtain the results in the table below\n",
    "\n",
    "\n",
    "* Create a summary data frame to hold the results\n",
    "\n",
    "\n",
    "* Sort the total purchase value column in descending order\n",
    "\n",
    "\n",
    "* Optional: give the displayed data cleaner formatting\n",
    "\n",
    "\n",
    "* Display a preview of the summary data frame\n",
    "\n"
   ]
  },
  {
   "cell_type": "code",
   "execution_count": null,
   "metadata": {},
   "outputs": [],
   "source": [
    "grouped_name_purchase_df = raw_data_df.groupby(\"SN\").sum()\n",
    "spender_tot_value = grouped_name_purchase_df[\"Price\"]\n",
    "\n",
    "#Calculations\n",
    "spender_purchase_count = raw_data_df[\"SN\"].value_counts()\n",
    "average_spender_price = (spender_tot_value / spender_purchase_count).round(2)\n",
    "\n",
    "#Summary data frame\n",
    "spender_summ_dict = {\"Purchase Count\": spender_purchase_count,\n",
    "                     \"Average Purchase Price\": average_spender_price.apply(lambda s: '${:,.2f}'.format(s)), \n",
    "                     \"Total Purchase Value\": spender_tot_value                            \n",
    "}\n",
    "spender_summ_df = pd.DataFrame(spender_summ_dict)\n",
    "spender_summ_df[\"Total Purchase Value\"] = spender_summ_df[\"Total Purchase Value\"].astype(float)\n",
    "spender_summ_df = spender_summ_df.sort_values(\"Total Purchase Value\", ascending=False)\n",
    "\n",
    "#Formatting correction\n",
    "spender_summ_df[\"Total Purchase Value\"] = spender_summ_df[\"Total Purchase Value\"].apply(lambda s: '${:,.2f}'.format(s))\n",
    "\n",
    "spender_summ_df.head()"
   ]
  },
  {
   "cell_type": "markdown",
   "metadata": {},
   "source": [
    "## Most Popular Items"
   ]
  },
  {
   "cell_type": "markdown",
   "metadata": {},
   "source": [
    "* Retrieve the Item ID, Item Name, and Item Price columns\n",
    "\n",
    "\n",
    "* Group by Item ID and Item Name. Perform calculations to obtain purchase count, average item price, and total purchase value\n",
    "\n",
    "\n",
    "* Create a summary data frame to hold the results\n",
    "\n",
    "\n",
    "* Sort the purchase count column in descending order\n",
    "\n",
    "\n",
    "* Optional: give the displayed data cleaner formatting\n",
    "\n",
    "\n",
    "* Display a preview of the summary data frame\n",
    "\n"
   ]
  },
  {
   "cell_type": "code",
   "execution_count": null,
   "metadata": {},
   "outputs": [],
   "source": [
    "popular_items_df = raw_data_df[[\"Item ID\", \"Item Name\", \"Price\"]]\n",
    "\n",
    "grouped_popular_items_df = popular_items_df.groupby([\"Item ID\", \"Item Name\"])\n",
    "\n",
    "#Calculations\n",
    "total_price_popular = grouped_popular_items_df[\"Price\"].sum()\n",
    "total_purchase_count = grouped_popular_items_df[\"Price\"].count()\n",
    "avg_item_price_pop = (total_price_popular / total_purchase_count).round(2)\n",
    "\n",
    "#Summary data frame\n",
    "popular_items_dict = {\"Purchase Count\": total_purchase_count,\n",
    "                      \"Item Price\": avg_item_price_pop.apply(lambda s: '${:,.2f}'.format(s)),\n",
    "                     \"Total Purchase Value\": total_price_popular.apply(lambda s: '${:,.2f}'.format(s))\n",
    "}\n",
    "\n",
    "popular_items_df = pd.DataFrame(popular_items_dict)\n",
    "popular_items_df = popular_items_df.sort_values(\"Purchase Count\", ascending=False)\n",
    "popular_items_df.head()"
   ]
  },
  {
   "cell_type": "markdown",
   "metadata": {},
   "source": [
    "## Most Profitable Items"
   ]
  },
  {
   "cell_type": "markdown",
   "metadata": {},
   "source": [
    "* Sort the above table by total purchase value in descending order\n",
    "\n",
    "\n",
    "* Optional: give the displayed data cleaner formatting\n",
    "\n",
    "\n",
    "* Display a preview of the data frame\n",
    "\n"
   ]
  },
  {
   "cell_type": "code",
   "execution_count": null,
   "metadata": {},
   "outputs": [],
   "source": [
    "#Correct error that arises from purchase value having the dollar symbol\n",
    "popular_items_df[\"Total Purchase Value\"] = popular_items_df[\"Total Purchase Value\"].str.replace(\"$\", \" \")\n",
    "popular_items_df[\"Total Purchase Value\"] = popular_items_df[\"Total Purchase Value\"].astype(float)\n",
    "\n",
    "most_profitable_df = popular_items_df.sort_values(\"Total Purchase Value\", ascending=False)\n",
    "most_profitable_df[\"Total Purchase Value\"] = most_profitable_df[\"Total Purchase Value\"].apply(lambda s: '${:,.2f}'.format(s))\n",
    "\n",
    "most_profitable_df.head()"
   ]
  },
  {
   "cell_type": "code",
   "execution_count": null,
   "metadata": {},
   "outputs": [],
   "source": []
  }
 ],
 "metadata": {
  "anaconda-cloud": {},
  "kernel_info": {
   "name": "python3"
  },
  "kernelspec": {
   "display_name": "Python 3",
   "language": "python",
   "name": "python3"
  },
  "language_info": {
   "codemirror_mode": {
    "name": "ipython",
    "version": 3
   },
   "file_extension": ".py",
   "mimetype": "text/x-python",
   "name": "python",
   "nbconvert_exporter": "python",
   "pygments_lexer": "ipython3",
   "version": "3.8.3"
  },
  "latex_envs": {
   "LaTeX_envs_menu_present": true,
   "autoclose": false,
   "autocomplete": true,
   "bibliofile": "biblio.bib",
   "cite_by": "apalike",
   "current_citInitial": 1,
   "eqLabelWithNumbers": true,
   "eqNumInitial": 1,
   "hotkeys": {
    "equation": "Ctrl-E",
    "itemize": "Ctrl-I"
   },
   "labels_anchors": false,
   "latex_user_defs": false,
   "report_style_numbering": false,
   "user_envs_cfg": false
  },
  "nteract": {
   "version": "0.2.0"
  }
 },
 "nbformat": 4,
 "nbformat_minor": 2
}
